{
  "nbformat": 4,
  "nbformat_minor": 0,
  "metadata": {
    "colab": {
      "name": "TextPlayground.ipynb",
      "provenance": [],
      "authorship_tag": "ABX9TyMfOWcg+5BXBHJTk6wrMGOQ"
    },
    "kernelspec": {
      "name": "python3",
      "display_name": "Python 3"
    }
  },
  "cells": [
    {
      "cell_type": "code",
      "metadata": {
        "id": "uJq9bjJxVvla",
        "colab_type": "code",
        "colab": {
          "base_uri": "https://localhost:8080/",
          "height": 292
        },
        "outputId": "77087372-7597-470d-cf99-01c7a5eb4d1e"
      },
      "source": [
        "!chmod +x kagglesetup.sh\n",
        "!./kagglesetup.sh c tmdb-box-office-prediction\n",
        "\n",
        "import os\n",
        "!unzip train.csv.zip\n",
        "!unzip test.csv.zip"
      ],
      "execution_count": null,
      "outputs": [
        {
          "output_type": "stream",
          "text": [
            "Warning: Your Kaggle API key is readable by other users on this system! To fix this, you can run 'chmod 600 /root/.kaggle/kaggle.json'\n",
            "Warning: Looks like you're using an outdated API Version, please consider updating (server 1.5.6 / client 1.5.4)\n",
            "Downloading test.csv.zip to /content\n",
            " 48% 5.00M/10.4M [00:00<00:00, 35.2MB/s]\n",
            "100% 10.4M/10.4M [00:00<00:00, 41.2MB/s]\n",
            "Downloading train.csv.zip to /content\n",
            " 85% 6.00M/7.05M [00:00<00:00, 61.5MB/s]\n",
            "100% 7.05M/7.05M [00:00<00:00, 65.0MB/s]\n",
            "Downloading sample_submission.csv to /content\n",
            "  0% 0.00/60.1k [00:00<?, ?B/s]\n",
            "100% 60.1k/60.1k [00:00<00:00, 63.0MB/s]\n",
            "Archive:  train.csv.zip\n",
            "  inflating: train.csv               \n",
            "Archive:  test.csv.zip\n",
            "  inflating: test.csv                \n"
          ],
          "name": "stdout"
        }
      ]
    },
    {
      "cell_type": "code",
      "metadata": {
        "id": "le7lv0_4_qSV",
        "colab_type": "code",
        "colab": {
          "base_uri": "https://localhost:8080/",
          "height": 52
        },
        "outputId": "6faf94fe-9053-4b92-da0f-102e8c29604e"
      },
      "source": [
        "import pandas as pd\n",
        "import matplotlib.pyplot as plt\n",
        "import seaborn as sns\n",
        "import numpy as np\n",
        "import re\n",
        "import nltk\n",
        "df_train = pd.read_csv('train.csv')\n",
        "df_train.loc[0, 'overview']"
      ],
      "execution_count": null,
      "outputs": [
        {
          "output_type": "execute_result",
          "data": {
            "application/vnd.google.colaboratory.intrinsic": {
              "type": "string"
            },
            "text/plain": [
              "'When Lou, who has become the \"father of the Internet,\" is shot by an unknown assailant, Jacob and Nick fire up the time machine again to save their friend.'"
            ]
          },
          "metadata": {
            "tags": []
          },
          "execution_count": 4
        }
      ]
    },
    {
      "cell_type": "code",
      "metadata": {
        "id": "zVfsClVGAQZn",
        "colab_type": "code",
        "colab": {
          "base_uri": "https://localhost:8080/",
          "height": 51
        },
        "outputId": "2205e654-df82-4b54-9ca0-06210244adb7"
      },
      "source": [
        "wpt = nltk.WordPunctTokenizer()\n",
        "nltk.download('stopwords')\n",
        "stop_words = nltk.corpus.stopwords.words('english')\n",
        "\n",
        "def normalize_document(doc):\n",
        "  doc = re.sub(r'[^a-zA-Z\\s]', '', doc, re.I|re.A)\n",
        "  doc = doc.lower()\n",
        "  doc = doc.strip()\n",
        "  tokens = wpt.tokenize(doc)\n",
        "  filtered_tokens = [token for token in tokens if token not in stop_words]\n",
        "  doc = ' '.join(filtered_tokens)\n",
        "  return doc\n",
        "\n",
        "df_train['overview_norm'] = df_train['overview'].apply(lambda x: normalize_document(str(x)))\n",
        "normalized_docs = np.array(df_train['overview_norm'])"
      ],
      "execution_count": null,
      "outputs": [
        {
          "output_type": "stream",
          "text": [
            "[nltk_data] Downloading package stopwords to /root/nltk_data...\n",
            "[nltk_data]   Unzipping corpora/stopwords.zip.\n"
          ],
          "name": "stdout"
        }
      ]
    },
    {
      "cell_type": "code",
      "metadata": {
        "id": "nSPwvMPhAbfp",
        "colab_type": "code",
        "colab": {
          "base_uri": "https://localhost:8080/",
          "height": 173
        },
        "outputId": "275cb3db-7748-462f-ea98-beb805d17316"
      },
      "source": [
        "normalized_docs.reshape(-1,1 )"
      ],
      "execution_count": null,
      "outputs": [
        {
          "output_type": "execute_result",
          "data": {
            "text/plain": [
              "array([['lou become father internet shot unknown assailant jacob nick fire time machine save friend'],\n",
              "       ['mia thermopolis college graduate way genovia take duties princess best friend lilly also joins summer mia continues princess lessons riding horses sidesaddle archery royal complicated life turned upside learns take crown queen earlier expected'],\n",
              "       ['direction ruthless instructor talented young drummer begins pursue perfection cost even humanity'],\n",
              "       ...,\n",
              "       ['samantha caine suburban homemaker ideal mom year old daughter caitlin lives honesdale pa job teaching school makes best rice krispie treats town receives bump head begins remember small parts previous life lethal topsecret agent'],\n",
              "       ['reuben feffer guy whos spent entire life playing safe polly prince irresistible freespirit lives thrill moment two comically mismatched souls collide reubens world turned upside makes uproarious attempt change life middleoftheroad totallyoutthere'],\n",
              "       ['young man sets uncover truth life finding baby photo missing persons website']],\n",
              "      dtype=object)"
            ]
          },
          "metadata": {
            "tags": []
          },
          "execution_count": 6
        }
      ]
    },
    {
      "cell_type": "code",
      "metadata": {
        "id": "Mncga1UtCuki",
        "colab_type": "code",
        "colab": {}
      },
      "source": [
        "from sklearn.feature_extraction.text import CountVectorizer\n",
        "# get bag of words features in sparse format\n",
        "cv = CountVectorizer(ngram_range=(1,2), min_df = 10, max_df = 0.8, stop_words=stop_words)\n",
        "cv_matrix = cv.fit_transform(normalized_docs)\n",
        "cv_array = cv_matrix.toarray()\n",
        "vocab = cv.get_feature_names()\n",
        "cv_matrix_df = pd.DataFrame(cv_array, columns = vocab)"
      ],
      "execution_count": null,
      "outputs": []
    },
    {
      "cell_type": "code",
      "metadata": {
        "id": "eCUGrJpWEqTZ",
        "colab_type": "code",
        "colab": {}
      },
      "source": [
        "from sklearn.cluster import KMeans\n",
        "NUM_CLUSTER = 10\n",
        "km = KMeans(n_clusters = NUM_CLUSTER, max_iter = 500, n_init = 50, \n",
        "            random_state = 42).fit(cv_matrix)"
      ],
      "execution_count": null,
      "outputs": []
    },
    {
      "cell_type": "code",
      "metadata": {
        "id": "r9N4DjVaPb3W",
        "colab_type": "code",
        "colab": {}
      },
      "source": [
        "df_train['kmeans_cluster'] = km.labels_ \n"
      ],
      "execution_count": null,
      "outputs": []
    },
    {
      "cell_type": "code",
      "metadata": {
        "id": "_u-RIHM0QGVM",
        "colab_type": "code",
        "colab": {
          "base_uri": "https://localhost:8080/",
          "height": 717
        },
        "outputId": "3ab13b97-bcf0-47d5-de94-492d39afa7cd"
      },
      "source": [
        "movie_clusters = (df_train[['title', 'kmeans_cluster', 'popularity']]\n",
        "                  .sort_values(by = ['kmeans_cluster', 'popularity'],\n",
        "                               ascending = False)\n",
        "                  .groupby('kmeans_cluster').head(20))\n",
        "\n",
        "movie_clusters = movie_clusters.copy(deep = True)\n",
        "feature_names = cv.get_feature_names()\n",
        "topn_features = 15\n",
        "ordered_centroids = km.cluster_centers_.argsort()[:, ::-1]\n",
        "for cluster_num in range(NUM_CLUSTER):\n",
        "  key_features = [feature_names[idx] for idx in ordered_centroids[cluster_num,:topn_features]]\n",
        "  movies = movie_clusters[movie_clusters['kmeans_cluster'] == cluster_num]['title'].values.tolist()\n",
        "  print('CLUSTER # ' + str(cluster_num + 1))\n",
        "  print('Key Features: ', key_features)\n",
        "  print('Popular Movies: ', movies)\n",
        "  print('-'*1000)"
      ],
      "execution_count": null,
      "outputs": [
        {
          "output_type": "stream",
          "text": [
            "CLUSTER # 1\n",
            "Key Features:  ['even', 'death', 'growing', 'old', 'paid', 'friends', 'gay', 'age', 'came', 'look', 'around', 'taking', 'alone', 'thinks', 'love']\n",
            "Popular Movies:  ['Voracious']\n",
            "----------------------------------------------------------------------------------------------------------------------------------------------------------------------------------------------------------------------------------------------------------------------------------------------------------------------------------------------------------------------------------------------------------------------------------------------------------------------------------------------------------------------------------------------------------------------------------------------------------------------------------------------------------------------------------------------------------------------------------------------------------------------------------------------------------------------------------------------------------------------------------------------------------------------------------------------------------------------------------------------------------------------------------------\n",
            "CLUSTER # 2\n",
            "Key Features:  ['school', 'high', 'high school', 'one', 'friends', 'two', 'help', 'new', 'day', 'together', 'girls', 'friend', 'world', 'way', 'back']\n",
            "Popular Movies:  ['Kick-Ass', 'Superbad', \"Bill & Ted's Excellent Adventure\", 'Nerve', 'Never Back Down', 'Fast Times at Ridgemont High', 'Thirteen', 'Airborne', '22 Jump Street', 'Bachelorette', 'Middle School: The Worst Years of My Life', 'Unfriended', 'The Edge of Seventeen', 'Hoop Dreams', 'Sex Drive', 'Not Another Teen Movie', 'Match Point', 'Brick', 'PCU', 'The DUFF']\n",
            "----------------------------------------------------------------------------------------------------------------------------------------------------------------------------------------------------------------------------------------------------------------------------------------------------------------------------------------------------------------------------------------------------------------------------------------------------------------------------------------------------------------------------------------------------------------------------------------------------------------------------------------------------------------------------------------------------------------------------------------------------------------------------------------------------------------------------------------------------------------------------------------------------------------------------------------------------------------------------------------------------------------------------------------\n",
            "CLUSTER # 3\n",
            "Key Features:  ['man', 'young', 'one', 'life', 'young man', 'family', 'woman', 'find', 'love', 'finds', 'world', 'wife', 'hes', 'must', 'comes']\n",
            "Popular Movies:  ['Wonder Woman', 'Gone Girl', 'Chappie', 'Mad Max: Fury Road', 'Ted', 'Nocturnal Animals', 'Man of Steel', 'The Equalizer', 'Run All Night', 'Saw: The Final Chapter', 'American Hustle', 'Papillon', 'Noah', '13', 'Niagara', 'Scent of a Woman', 'The Book of Eli', 'To Kill a Mockingbird', 'The Terminal', 'Moonlight Mile']\n",
            "----------------------------------------------------------------------------------------------------------------------------------------------------------------------------------------------------------------------------------------------------------------------------------------------------------------------------------------------------------------------------------------------------------------------------------------------------------------------------------------------------------------------------------------------------------------------------------------------------------------------------------------------------------------------------------------------------------------------------------------------------------------------------------------------------------------------------------------------------------------------------------------------------------------------------------------------------------------------------------------------------------------------------------------\n",
            "CLUSTER # 4\n",
            "Key Features:  ['get', 'one', 'back', 'two', 'way', 'family', 'time', 'job', 'things', 'must', 'town', 'help', 'life', 'wife', 'friends']\n",
            "Popular Movies:  ['Rescue Under Fire', 'Diary of a Wimpy Kid: The Long Haul', \"Don't Breathe\", 'The Incredibles', 'The Lion King', 'The Hobbit: The Desolation of Smaug', 'The Hateful Eight', 'Trainspotting', 'Cars 3', 'Passenger 57', 'Disturbia', 'Life of Crime', 'A Man Apart', 'Peter Pan', 'Jackie Brown', 'Dracula Untold', 'Elysium', 'The Cabin in the Woods', 'The Counselor', '10 Cloverfield Lane']\n",
            "----------------------------------------------------------------------------------------------------------------------------------------------------------------------------------------------------------------------------------------------------------------------------------------------------------------------------------------------------------------------------------------------------------------------------------------------------------------------------------------------------------------------------------------------------------------------------------------------------------------------------------------------------------------------------------------------------------------------------------------------------------------------------------------------------------------------------------------------------------------------------------------------------------------------------------------------------------------------------------------------------------------------------------------\n",
            "CLUSTER # 5\n",
            "Key Features:  ['jack', 'war', 'dog', 'jane', 'baseball', 'never', 'civil', 'magic', 'story', 'man', 'family', 'friendship', 'believe', 'home', 'tom']\n",
            "Popular Movies:  ['Three Wishes', 'Sommersby']\n",
            "----------------------------------------------------------------------------------------------------------------------------------------------------------------------------------------------------------------------------------------------------------------------------------------------------------------------------------------------------------------------------------------------------------------------------------------------------------------------------------------------------------------------------------------------------------------------------------------------------------------------------------------------------------------------------------------------------------------------------------------------------------------------------------------------------------------------------------------------------------------------------------------------------------------------------------------------------------------------------------------------------------------------------------------\n",
            "CLUSTER # 6\n",
            "Key Features:  ['soldiers', 'sergeant', 'war', 'never', 'mike', 'steve', 'leaves', 'mother', 'brutal', 'news', 'hearts', 'travel', 'movie', 'honor', 'behind']\n",
            "Popular Movies:  ['The War Tapes']\n",
            "----------------------------------------------------------------------------------------------------------------------------------------------------------------------------------------------------------------------------------------------------------------------------------------------------------------------------------------------------------------------------------------------------------------------------------------------------------------------------------------------------------------------------------------------------------------------------------------------------------------------------------------------------------------------------------------------------------------------------------------------------------------------------------------------------------------------------------------------------------------------------------------------------------------------------------------------------------------------------------------------------------------------------------------\n",
            "CLUSTER # 7\n",
            "Key Features:  ['life', 'love', 'new', 'one', 'world', 'father', 'family', 'young', 'back', 'film', 'time', 'finds', 'two', 'must', 'son']\n",
            "Popular Movies:  ['The Shawshank Redemption', 'The Godfather', '2:22', 'The Twilight Saga: Eclipse', \"Pirates of the Caribbean: At World's End\", 'Harry Potter and the Chamber of Secrets', 'Batman Begins', 'World War Z', \"Child's Play 3\", 'Saw', 'The Hobbit: An Unexpected Journey', 'American Beauty', 'The Bourne Supremacy', 'Cars', '9', 'Six Days Seven Nights', 'The Handmaiden', 'The Shack', '(500) Days of Summer', 'Mama']\n",
            "----------------------------------------------------------------------------------------------------------------------------------------------------------------------------------------------------------------------------------------------------------------------------------------------------------------------------------------------------------------------------------------------------------------------------------------------------------------------------------------------------------------------------------------------------------------------------------------------------------------------------------------------------------------------------------------------------------------------------------------------------------------------------------------------------------------------------------------------------------------------------------------------------------------------------------------------------------------------------------------------------------------------------------------\n",
            "CLUSTER # 8\n",
            "Key Features:  ['young', 'one', 'two', 'world', 'must', 'find', 'love', 'new', 'family', 'finds', 'help', 'war', 'years', 'woman', 'father']\n",
            "Popular Movies:  ['Beauty and the Beast', 'Baby Driver', 'Guardians of the Galaxy Vol. 2', 'War for the Planet of the Apes', 'The Dark Knight', 'The Avengers', 'The Circle', 'Whiplash', 'Fight Club', 'Logan', 'Guardians of the Galaxy', 'John Wick: Chapter 2', 'Pirates of the Caribbean: The Curse of the Black Pearl', 'Ted 2', 'Maze Runner: The Scorch Trials', 'Transformers: The Last Knight', 'Avengers: Age of Ultron', 'Get Out', 'The Beguiled', 'The Mummy']\n",
            "----------------------------------------------------------------------------------------------------------------------------------------------------------------------------------------------------------------------------------------------------------------------------------------------------------------------------------------------------------------------------------------------------------------------------------------------------------------------------------------------------------------------------------------------------------------------------------------------------------------------------------------------------------------------------------------------------------------------------------------------------------------------------------------------------------------------------------------------------------------------------------------------------------------------------------------------------------------------------------------------------------------------------------------\n",
            "CLUSTER # 9\n",
            "Key Features:  ['new', 'york', 'new york', 'city', 'york city', 'world', 'years', 'one', 'two', 'help', 'must', 'life', 'time', 'woman', 'film']\n",
            "Popular Movies:  ['Pixels', 'The Dark Knight Rises', 'Ice Age: Collision Course', 'King Kong', 'Captain America: The Winter Soldier', 'Rear Window', 'The Godfather: Part III', 'Ghostbusters II', 'The Wolf of Wall Street', 'Alien: Resurrection', \"Mr. Popper's Penguins\", 'The Day After Tomorrow', 'The Expendables 3', 'The Mortal Instruments: City of Bones', 'Ben-Hur', 'Alvin and the Chipmunks: The Road Chip', 'Bridge of Spies', \"We're Back! A Dinosaur's Story\", 'Death Race', 'Rumble in the Bronx']\n",
            "----------------------------------------------------------------------------------------------------------------------------------------------------------------------------------------------------------------------------------------------------------------------------------------------------------------------------------------------------------------------------------------------------------------------------------------------------------------------------------------------------------------------------------------------------------------------------------------------------------------------------------------------------------------------------------------------------------------------------------------------------------------------------------------------------------------------------------------------------------------------------------------------------------------------------------------------------------------------------------------------------------------------------------------\n",
            "CLUSTER # 10\n",
            "Key Features:  ['story', 'love', 'young', 'true', 'tells', 'two', 'film', 'life', 'true story', 'set', 'tells story', 'one', 'based', 'family', 'war']\n",
            "Popular Movies:  ['Deadpool', 'Life Is Beautiful', 'Aliens', 'Live by Night', 'Beauty and the Beast', 'Maleficent', 'Mr. Holmes', 'Zodiac', 'Apollo 13', 'The Little Mermaid', 'The Prestige', 'Hidden Figures', 'A Mighty Heart', 'War Dogs', 'The Fault in Our Stars', 'The Intouchables', 'Into the Wild', 'Find Me Guilty', 'Last Night', 'Mary Poppins']\n",
            "----------------------------------------------------------------------------------------------------------------------------------------------------------------------------------------------------------------------------------------------------------------------------------------------------------------------------------------------------------------------------------------------------------------------------------------------------------------------------------------------------------------------------------------------------------------------------------------------------------------------------------------------------------------------------------------------------------------------------------------------------------------------------------------------------------------------------------------------------------------------------------------------------------------------------------------------------------------------------------------------------------------------------------------\n"
          ],
          "name": "stdout"
        }
      ]
    },
    {
      "cell_type": "code",
      "metadata": {
        "id": "eWVYZrii9bRZ",
        "colab_type": "code",
        "colab": {}
      },
      "source": [
        "sample_plot = \"Shaun is a salesman whose life has no direction. However, his uneventful life takes a sudden turn when he has to singlehandedly deal with an entire community of zombies.\"\n",
        "norm_sample_plot = normalize_document(sample_plot)\n",
        "transformed_plot = cv.transform([sample_plot])"
      ],
      "execution_count": null,
      "outputs": []
    },
    {
      "cell_type": "code",
      "metadata": {
        "id": "QtlDlIeyJwog",
        "colab_type": "code",
        "colab": {
          "base_uri": "https://localhost:8080/",
          "height": 136
        },
        "outputId": "2f34833e-1ef9-4f92-8dcb-e72b0f17add8"
      },
      "source": [
        "df_train.columns.values"
      ],
      "execution_count": null,
      "outputs": [
        {
          "output_type": "execute_result",
          "data": {
            "text/plain": [
              "array(['id', 'belongs_to_collection', 'budget', 'genres', 'homepage',\n",
              "       'imdb_id', 'original_language', 'original_title', 'overview',\n",
              "       'popularity', 'poster_path', 'production_companies',\n",
              "       'production_countries', 'release_date', 'runtime',\n",
              "       'spoken_languages', 'status', 'tagline', 'title', 'Keywords',\n",
              "       'cast', 'crew', 'revenue', 'overview_norm', 'kmeans_cluster'],\n",
              "      dtype=object)"
            ]
          },
          "metadata": {
            "tags": []
          },
          "execution_count": 30
        }
      ]
    },
    {
      "cell_type": "code",
      "metadata": {
        "id": "S_0xKNmWE6MN",
        "colab_type": "code",
        "colab": {
          "base_uri": "https://localhost:8080/",
          "height": 1000
        },
        "outputId": "9a612c1e-e8e4-4a19-f9ce-12c008dc61c0"
      },
      "source": [
        "predicted_cluster = km.predict(transformed_plot)\n",
        "movies_in_same_cluster = df_train.loc[df_train['kmeans_cluster'] == predicted_cluster[0], ['title', 'genres']]\n",
        "print(type(movies_in_same_cluster))\n",
        "for idx, movie in movies_in_same_cluster.iterrows():\n",
        "  print(movie['title'], movie['genres'])\n"
      ],
      "execution_count": null,
      "outputs": [
        {
          "output_type": "stream",
          "text": [
            "<class 'pandas.core.frame.DataFrame'>\n",
            "The Princess Diaries 2: Royal Engagement [{'id': 35, 'name': 'Comedy'}, {'id': 18, 'name': 'Drama'}, {'id': 10751, 'name': 'Family'}, {'id': 10749, 'name': 'Romance'}]\n",
            "Kahaani [{'id': 53, 'name': 'Thriller'}, {'id': 18, 'name': 'Drama'}]\n",
            "American Beauty [{'id': 18, 'name': 'Drama'}]\n",
            "Chalet Girl [{'id': 35, 'name': 'Comedy'}, {'id': 10749, 'name': 'Romance'}]\n",
            "Lost in Space [{'id': 12, 'name': 'Adventure'}, {'id': 10751, 'name': 'Family'}, {'id': 878, 'name': 'Science Fiction'}]\n",
            "InSight [{'id': 53, 'name': 'Thriller'}, {'id': 9648, 'name': 'Mystery'}, {'id': 10769, 'name': 'Foreign'}]\n",
            "What If [{'id': 18, 'name': 'Drama'}, {'id': 35, 'name': 'Comedy'}, {'id': 10749, 'name': 'Romance'}]\n",
            "The Last Witch Hunter [{'id': 14, 'name': 'Fantasy'}, {'id': 28, 'name': 'Action'}, {'id': 12, 'name': 'Adventure'}]\n",
            "Moscow, Belgium [{'id': 10749, 'name': 'Romance'}, {'id': 18, 'name': 'Drama'}, {'id': 35, 'name': 'Comedy'}]\n",
            "Son in Law [{'id': 35, 'name': 'Comedy'}, {'id': 18, 'name': 'Drama'}, {'id': 10749, 'name': 'Romance'}]\n",
            "Queen to Play [{'id': 35, 'name': 'Comedy'}, {'id': 18, 'name': 'Drama'}]\n",
            "The Jacket [{'id': 18, 'name': 'Drama'}, {'id': 9648, 'name': 'Mystery'}, {'id': 53, 'name': 'Thriller'}, {'id': 14, 'name': 'Fantasy'}]\n",
            "Shopgirl [{'id': 35, 'name': 'Comedy'}, {'id': 18, 'name': 'Drama'}, {'id': 10749, 'name': 'Romance'}]\n",
            "And Here's What's Happening to Me [{'id': 18, 'name': 'Drama'}]\n",
            "Boxing Helena [{'id': 18, 'name': 'Drama'}, {'id': 10749, 'name': 'Romance'}]\n",
            "(500) Days of Summer [{'id': 35, 'name': 'Comedy'}, {'id': 18, 'name': 'Drama'}, {'id': 10749, 'name': 'Romance'}]\n",
            "Alan Partridge: Alpha Papa [{'id': 35, 'name': 'Comedy'}]\n",
            "The Good Doctor [{'id': 18, 'name': 'Drama'}, {'id': 53, 'name': 'Thriller'}]\n",
            "The Bronze [{'id': 18, 'name': 'Drama'}, {'id': 35, 'name': 'Comedy'}]\n",
            "Snowpiercer [{'id': 28, 'name': 'Action'}, {'id': 878, 'name': 'Science Fiction'}, {'id': 18, 'name': 'Drama'}]\n",
            "American Cyborg: Steel Warrior [{'id': 28, 'name': 'Action'}, {'id': 12, 'name': 'Adventure'}, {'id': 878, 'name': 'Science Fiction'}]\n",
            "Return to the Blue Lagoon [{'id': 12, 'name': 'Adventure'}]\n",
            "Click [{'id': 35, 'name': 'Comedy'}, {'id': 18, 'name': 'Drama'}, {'id': 14, 'name': 'Fantasy'}, {'id': 10749, 'name': 'Romance'}]\n",
            "Absolutely Fabulous: The Movie [{'id': 35, 'name': 'Comedy'}]\n",
            "Revenge of the Ninja [{'id': 28, 'name': 'Action'}, {'id': 80, 'name': 'Crime'}, {'id': 18, 'name': 'Drama'}, {'id': 53, 'name': 'Thriller'}]\n",
            "Once Bitten [{'id': 27, 'name': 'Horror'}, {'id': 35, 'name': 'Comedy'}, {'id': 10749, 'name': 'Romance'}]\n",
            "Captive [{'id': 80, 'name': 'Crime'}, {'id': 18, 'name': 'Drama'}, {'id': 53, 'name': 'Thriller'}]\n",
            "Stand by Me Doraemon [{'id': 14, 'name': 'Fantasy'}, {'id': 16, 'name': 'Animation'}, {'id': 10751, 'name': 'Family'}]\n",
            "City of Life and Death [{'id': 18, 'name': 'Drama'}, {'id': 36, 'name': 'History'}, {'id': 10752, 'name': 'War'}]\n",
            "Jefferson in Paris [{'id': 18, 'name': 'Drama'}, {'id': 10749, 'name': 'Romance'}]\n",
            "Summer Wars [{'id': 16, 'name': 'Animation'}]\n",
            "Glass: A Portrait of Philip in Twelve Parts [{'id': 99, 'name': 'Documentary'}, {'id': 10769, 'name': 'Foreign'}, {'id': 10402, 'name': 'Music'}]\n",
            "Marmaduke [{'id': 10751, 'name': 'Family'}, {'id': 35, 'name': 'Comedy'}]\n",
            "Six Days Seven Nights [{'id': 28, 'name': 'Action'}, {'id': 12, 'name': 'Adventure'}, {'id': 35, 'name': 'Comedy'}, {'id': 10749, 'name': 'Romance'}]\n",
            "Living Out Loud [{'id': 35, 'name': 'Comedy'}, {'id': 18, 'name': 'Drama'}, {'id': 10749, 'name': 'Romance'}]\n",
            "Paris [{'id': 18, 'name': 'Drama'}]\n",
            "The Lookout [{'id': 80, 'name': 'Crime'}, {'id': 18, 'name': 'Drama'}, {'id': 53, 'name': 'Thriller'}]\n",
            "Unbroken [{'id': 18, 'name': 'Drama'}, {'id': 10752, 'name': 'War'}]\n",
            "Four Days in September [{'id': 28, 'name': 'Action'}, {'id': 18, 'name': 'Drama'}, {'id': 10769, 'name': 'Foreign'}, {'id': 36, 'name': 'History'}, {'id': 53, 'name': 'Thriller'}]\n",
            "Paradise [{'id': 10749, 'name': 'Romance'}, {'id': 12, 'name': 'Adventure'}]\n",
            "Ghost [{'id': 9648, 'name': 'Mystery'}, {'id': 18, 'name': 'Drama'}, {'id': 14, 'name': 'Fantasy'}]\n",
            "The Molly Maguires [{'id': 18, 'name': 'Drama'}, {'id': 36, 'name': 'History'}]\n",
            "Collateral Beauty [{'id': 18, 'name': 'Drama'}, {'id': 10749, 'name': 'Romance'}]\n",
            "Chasing Trane [{'id': 99, 'name': 'Documentary'}]\n",
            "Behind Enemy Lines [{'id': 28, 'name': 'Action'}, {'id': 18, 'name': 'Drama'}, {'id': 53, 'name': 'Thriller'}, {'id': 10752, 'name': 'War'}]\n",
            "After Hours [{'id': 35, 'name': 'Comedy'}, {'id': 53, 'name': 'Thriller'}, {'id': 18, 'name': 'Drama'}]\n",
            "Outland [{'id': 878, 'name': 'Science Fiction'}]\n",
            "Born to Be Blue [{'id': 18, 'name': 'Drama'}, {'id': 10402, 'name': 'Music'}]\n",
            "The Dry Land [{'id': 18, 'name': 'Drama'}]\n",
            "Anger Management [{'id': 35, 'name': 'Comedy'}]\n",
            "Moka [{'id': 18, 'name': 'Drama'}]\n",
            "Before I Disappear [{'id': 18, 'name': 'Drama'}]\n",
            "Cool World [{'id': 16, 'name': 'Animation'}, {'id': 35, 'name': 'Comedy'}, {'id': 14, 'name': 'Fantasy'}]\n",
            "Happy Family [{'id': 35, 'name': 'Comedy'}, {'id': 10749, 'name': 'Romance'}]\n",
            "The General's Daughter [{'id': 80, 'name': 'Crime'}, {'id': 18, 'name': 'Drama'}, {'id': 9648, 'name': 'Mystery'}, {'id': 53, 'name': 'Thriller'}]\n",
            "Midnight in Paris [{'id': 14, 'name': 'Fantasy'}, {'id': 35, 'name': 'Comedy'}, {'id': 10749, 'name': 'Romance'}]\n",
            "The Raven [{'id': 80, 'name': 'Crime'}, {'id': 53, 'name': 'Thriller'}, {'id': 9648, 'name': 'Mystery'}]\n",
            "Holy Motors [{'id': 18, 'name': 'Drama'}, {'id': 14, 'name': 'Fantasy'}]\n",
            "Pagafantas [{'id': 35, 'name': 'Comedy'}]\n",
            "The Better Angels [{'id': 18, 'name': 'Drama'}, {'id': 36, 'name': 'History'}]\n",
            "Chasing Liberty [{'id': 35, 'name': 'Comedy'}, {'id': 10749, 'name': 'Romance'}]\n",
            "The Song [{'id': 10402, 'name': 'Music'}, {'id': 10749, 'name': 'Romance'}, {'id': 18, 'name': 'Drama'}]\n",
            "Swoon [{'id': 18, 'name': 'Drama'}]\n",
            "The Conspirator [{'id': 80, 'name': 'Crime'}, {'id': 18, 'name': 'Drama'}, {'id': 36, 'name': 'History'}]\n",
            "St. Elmo's Fire [{'id': 18, 'name': 'Drama'}, {'id': 10749, 'name': 'Romance'}]\n",
            "Elizabethtown [{'id': 35, 'name': 'Comedy'}, {'id': 18, 'name': 'Drama'}, {'id': 10749, 'name': 'Romance'}]\n",
            "A Dog's Purpose [{'id': 35, 'name': 'Comedy'}, {'id': 18, 'name': 'Drama'}, {'id': 10751, 'name': 'Family'}, {'id': 14, 'name': 'Fantasy'}]\n",
            "Timecop [{'id': 53, 'name': 'Thriller'}, {'id': 878, 'name': 'Science Fiction'}, {'id': 28, 'name': 'Action'}, {'id': 80, 'name': 'Crime'}]\n",
            "Martin Lawrence Live: Runteldat [{'id': 35, 'name': 'Comedy'}]\n",
            "Indiana Jones and the Last Crusade [{'id': 12, 'name': 'Adventure'}, {'id': 28, 'name': 'Action'}]\n",
            "Mad Dog and Glory [{'id': 35, 'name': 'Comedy'}, {'id': 80, 'name': 'Crime'}, {'id': 10749, 'name': 'Romance'}, {'id': 18, 'name': 'Drama'}]\n",
            "Edge of Darkness [{'id': 80, 'name': 'Crime'}, {'id': 18, 'name': 'Drama'}, {'id': 9648, 'name': 'Mystery'}, {'id': 53, 'name': 'Thriller'}]\n",
            "Bridget Jones's Baby [{'id': 35, 'name': 'Comedy'}]\n",
            "Darkman [{'id': 28, 'name': 'Action'}, {'id': 878, 'name': 'Science Fiction'}, {'id': 80, 'name': 'Crime'}]\n",
            "I'm Not There. [{'id': 18, 'name': 'Drama'}, {'id': 10402, 'name': 'Music'}]\n",
            "The Perfect Guy [{'id': 18, 'name': 'Drama'}, {'id': 53, 'name': 'Thriller'}]\n",
            "The Handmaiden [{'id': 53, 'name': 'Thriller'}, {'id': 18, 'name': 'Drama'}, {'id': 10749, 'name': 'Romance'}]\n",
            "Flashbacks of a Fool [{'id': 18, 'name': 'Drama'}]\n",
            "Innocent Voices [{'id': 18, 'name': 'Drama'}, {'id': 10752, 'name': 'War'}]\n",
            "Last Action Hero [{'id': 12, 'name': 'Adventure'}, {'id': 14, 'name': 'Fantasy'}, {'id': 28, 'name': 'Action'}, {'id': 35, 'name': 'Comedy'}, {'id': 10751, 'name': 'Family'}]\n",
            "The Animal [{'id': 28, 'name': 'Action'}, {'id': 35, 'name': 'Comedy'}]\n",
            "Step Up 2: The Streets [{'id': 10402, 'name': 'Music'}, {'id': 18, 'name': 'Drama'}, {'id': 10749, 'name': 'Romance'}]\n",
            "Reality Bites [{'id': 18, 'name': 'Drama'}]\n",
            "Enter the Void [{'id': 14, 'name': 'Fantasy'}, {'id': 18, 'name': 'Drama'}]\n",
            "Elektra Luxx [{'id': 28, 'name': 'Action'}, {'id': 35, 'name': 'Comedy'}, {'id': 18, 'name': 'Drama'}]\n",
            "Birdman of Alcatraz [{'id': 18, 'name': 'Drama'}]\n",
            "Anjaana Anjaani [{'id': 35, 'name': 'Comedy'}, {'id': 18, 'name': 'Drama'}, {'id': 10402, 'name': 'Music'}, {'id': 10749, 'name': 'Romance'}]\n",
            "Without Limits [{'id': 18, 'name': 'Drama'}]\n",
            "The Hunger [{'id': 27, 'name': 'Horror'}, {'id': 53, 'name': 'Thriller'}, {'id': 10749, 'name': 'Romance'}]\n",
            "The Buddy Holly Story [{'id': 18, 'name': 'Drama'}]\n",
            "The Pretty One [{'id': 35, 'name': 'Comedy'}, {'id': 18, 'name': 'Drama'}]\n",
            "The Rose [{'id': 18, 'name': 'Drama'}, {'id': 10402, 'name': 'Music'}, {'id': 10749, 'name': 'Romance'}]\n",
            "Fair Game [{'id': 18, 'name': 'Drama'}, {'id': 53, 'name': 'Thriller'}]\n",
            "City of Joy [{'id': 18, 'name': 'Drama'}]\n",
            "Thank You for Smoking [{'id': 35, 'name': 'Comedy'}, {'id': 18, 'name': 'Drama'}]\n",
            "Walk of Shame [{'id': 35, 'name': 'Comedy'}]\n",
            "World War Z [{'id': 28, 'name': 'Action'}, {'id': 18, 'name': 'Drama'}, {'id': 27, 'name': 'Horror'}, {'id': 878, 'name': 'Science Fiction'}, {'id': 53, 'name': 'Thriller'}]\n",
            "Kaminey [{'id': 28, 'name': 'Action'}, {'id': 80, 'name': 'Crime'}, {'id': 18, 'name': 'Drama'}]\n",
            "Bodies, Rest & Motion [{'id': 18, 'name': 'Drama'}, {'id': 10749, 'name': 'Romance'}]\n",
            "The Fighter [{'id': 18, 'name': 'Drama'}]\n",
            "Child's Play 3 [{'id': 53, 'name': 'Thriller'}, {'id': 27, 'name': 'Horror'}, {'id': 28, 'name': 'Action'}]\n",
            "Batman Begins [{'id': 28, 'name': 'Action'}, {'id': 80, 'name': 'Crime'}, {'id': 18, 'name': 'Drama'}]\n",
            "Hollywoodland [{'id': 18, 'name': 'Drama'}, {'id': 53, 'name': 'Thriller'}, {'id': 80, 'name': 'Crime'}]\n",
            "Neerja [{'id': 18, 'name': 'Drama'}]\n",
            "Me Myself I [{'id': 35, 'name': 'Comedy'}, {'id': 10749, 'name': 'Romance'}]\n",
            "Big Bully [{'id': 35, 'name': 'Comedy'}, {'id': 10751, 'name': 'Family'}]\n",
            "The Secret Scripture [{'id': 18, 'name': 'Drama'}]\n",
            "The Lazarus Project [{'id': 18, 'name': 'Drama'}, {'id': 53, 'name': 'Thriller'}]\n",
            "Hey, Boo: Harper Lee & To Kill a Mockingbird [{'id': 99, 'name': 'Documentary'}]\n",
            "Rabbit Without Ears 2 [{'id': 35, 'name': 'Comedy'}, {'id': 10749, 'name': 'Romance'}]\n",
            "Mama [{'id': 27, 'name': 'Horror'}]\n",
            "21 & Over [{'id': 35, 'name': 'Comedy'}]\n",
            "Revenge of the Pink Panther [{'id': 28, 'name': 'Action'}, {'id': 35, 'name': 'Comedy'}, {'id': 80, 'name': 'Crime'}, {'id': 53, 'name': 'Thriller'}]\n",
            "Thy Womb [{'id': 18, 'name': 'Drama'}, {'id': 10769, 'name': 'Foreign'}]\n",
            "Howard the Duck [{'id': 35, 'name': 'Comedy'}, {'id': 14, 'name': 'Fantasy'}, {'id': 878, 'name': 'Science Fiction'}]\n",
            "Buck [{'id': 99, 'name': 'Documentary'}]\n",
            "Out of Africa [{'id': 18, 'name': 'Drama'}]\n",
            "The Indian Runner [{'id': 18, 'name': 'Drama'}]\n",
            "Better Living Through Chemistry [{'id': 18, 'name': 'Drama'}, {'id': 35, 'name': 'Comedy'}]\n",
            "8MM [{'id': 53, 'name': 'Thriller'}, {'id': 80, 'name': 'Crime'}, {'id': 9648, 'name': 'Mystery'}]\n",
            "Mata Hari [{'id': 18, 'name': 'Drama'}, {'id': 28, 'name': 'Action'}, {'id': 53, 'name': 'Thriller'}, {'id': 10749, 'name': 'Romance'}]\n",
            "Akeelah and the Bee [{'id': 18, 'name': 'Drama'}]\n",
            "Locke [{'id': 18, 'name': 'Drama'}, {'id': 53, 'name': 'Thriller'}]\n",
            "Crazy, Stupid, Love. [{'id': 35, 'name': 'Comedy'}, {'id': 18, 'name': 'Drama'}, {'id': 10749, 'name': 'Romance'}]\n",
            "If I Stay [{'id': 18, 'name': 'Drama'}]\n",
            "Flatliners [{'id': 18, 'name': 'Drama'}, {'id': 27, 'name': 'Horror'}, {'id': 878, 'name': 'Science Fiction'}, {'id': 53, 'name': 'Thriller'}]\n",
            "Dad [{'id': 18, 'name': 'Drama'}, {'id': 35, 'name': 'Comedy'}]\n",
            "Difret [{'id': 18, 'name': 'Drama'}]\n",
            "Shin Godzilla [{'id': 28, 'name': 'Action'}, {'id': 12, 'name': 'Adventure'}, {'id': 18, 'name': 'Drama'}, {'id': 27, 'name': 'Horror'}, {'id': 878, 'name': 'Science Fiction'}]\n",
            "Saw [{'id': 27, 'name': 'Horror'}, {'id': 9648, 'name': 'Mystery'}, {'id': 80, 'name': 'Crime'}]\n",
            "The Lunchbox [{'id': 18, 'name': 'Drama'}, {'id': 10749, 'name': 'Romance'}]\n",
            "Bad Education [{'id': 80, 'name': 'Crime'}, {'id': 18, 'name': 'Drama'}, {'id': 10749, 'name': 'Romance'}, {'id': 53, 'name': 'Thriller'}]\n",
            "White Palace [{'id': 18, 'name': 'Drama'}, {'id': 10749, 'name': 'Romance'}]\n",
            "Love & Mercy [{'id': 18, 'name': 'Drama'}]\n",
            "The Godfather [{'id': 18, 'name': 'Drama'}, {'id': 80, 'name': 'Crime'}]\n",
            "Robinson Crusoe [{'id': 12, 'name': 'Adventure'}, {'id': 16, 'name': 'Animation'}, {'id': 35, 'name': 'Comedy'}, {'id': 10751, 'name': 'Family'}]\n",
            "Mio in the Land of Faraway [{'id': 12, 'name': 'Adventure'}, {'id': 18, 'name': 'Drama'}, {'id': 14, 'name': 'Fantasy'}, {'id': 10751, 'name': 'Family'}, {'id': 9648, 'name': 'Mystery'}]\n",
            "Frankenweenie [{'id': 16, 'name': 'Animation'}, {'id': 35, 'name': 'Comedy'}, {'id': 10751, 'name': 'Family'}]\n",
            "Virus [{'id': 27, 'name': 'Horror'}, {'id': 28, 'name': 'Action'}, {'id': 878, 'name': 'Science Fiction'}]\n",
            "Pokémon: Arceus and the Jewel of Life [{'id': 16, 'name': 'Animation'}, {'id': 10751, 'name': 'Family'}]\n",
            "Sleep with Me [{'id': 35, 'name': 'Comedy'}, {'id': 18, 'name': 'Drama'}, {'id': 10749, 'name': 'Romance'}]\n",
            "A Coffee in Berlin [{'id': 35, 'name': 'Comedy'}, {'id': 18, 'name': 'Drama'}]\n",
            "The Nutcracker [{'id': 10751, 'name': 'Family'}, {'id': 14, 'name': 'Fantasy'}, {'id': 10402, 'name': 'Music'}]\n",
            "Local Color [{'id': 18, 'name': 'Drama'}]\n",
            "Dorian Gray [{'id': 14, 'name': 'Fantasy'}, {'id': 18, 'name': 'Drama'}, {'id': 53, 'name': 'Thriller'}]\n",
            "Faraway, So Close! [{'id': 18, 'name': 'Drama'}, {'id': 14, 'name': 'Fantasy'}, {'id': 878, 'name': 'Science Fiction'}]\n",
            "Candy Razors [{'id': 80, 'name': 'Crime'}, {'id': 18, 'name': 'Drama'}]\n",
            "Comedian [{'id': 35, 'name': 'Comedy'}, {'id': 99, 'name': 'Documentary'}]\n",
            "Happythankyoumoreplease [{'id': 35, 'name': 'Comedy'}, {'id': 10749, 'name': 'Romance'}]\n",
            "Dr. Cabbie [{'id': 35, 'name': 'Comedy'}]\n",
            "Death Sentence [{'id': 28, 'name': 'Action'}, {'id': 80, 'name': 'Crime'}, {'id': 18, 'name': 'Drama'}, {'id': 53, 'name': 'Thriller'}]\n",
            "The Stone Angel [{'id': 18, 'name': 'Drama'}]\n",
            "Walk the Line [{'id': 18, 'name': 'Drama'}, {'id': 10402, 'name': 'Music'}, {'id': 10749, 'name': 'Romance'}]\n",
            "The Chronicles of Narnia: Prince Caspian [{'id': 12, 'name': 'Adventure'}, {'id': 10751, 'name': 'Family'}, {'id': 14, 'name': 'Fantasy'}]\n",
            "Folks! [{'id': 35, 'name': 'Comedy'}]\n",
            "In This Corner of the World [{'id': 16, 'name': 'Animation'}, {'id': 18, 'name': 'Drama'}]\n",
            "The Wiz [{'id': 12, 'name': 'Adventure'}, {'id': 10751, 'name': 'Family'}, {'id': 14, 'name': 'Fantasy'}, {'id': 10402, 'name': 'Music'}]\n",
            "The Red Turtle [{'id': 16, 'name': 'Animation'}, {'id': 18, 'name': 'Drama'}, {'id': 14, 'name': 'Fantasy'}]\n",
            "Every Day [{'id': 18, 'name': 'Drama'}, {'id': 35, 'name': 'Comedy'}, {'id': 10749, 'name': 'Romance'}]\n",
            "Squanto: A Warrior's Tale [{'id': 18, 'name': 'Drama'}, {'id': 10751, 'name': 'Family'}]\n",
            "Little Manhattan [{'id': 35, 'name': 'Comedy'}]\n",
            "Madame Bovary [{'id': 18, 'name': 'Drama'}, {'id': 10769, 'name': 'Foreign'}, {'id': 10749, 'name': 'Romance'}]\n",
            "Transformers: Revenge of the Fallen [{'id': 878, 'name': 'Science Fiction'}, {'id': 28, 'name': 'Action'}, {'id': 12, 'name': 'Adventure'}]\n",
            "The Green Hornet [{'id': 28, 'name': 'Action'}, {'id': 80, 'name': 'Crime'}, {'id': 35, 'name': 'Comedy'}]\n",
            "The Secret of Moonacre [{'id': 12, 'name': 'Adventure'}, {'id': 14, 'name': 'Fantasy'}, {'id': 18, 'name': 'Drama'}, {'id': 878, 'name': 'Science Fiction'}, {'id': 10749, 'name': 'Romance'}, {'id': 10751, 'name': 'Family'}]\n",
            "A War [{'id': 18, 'name': 'Drama'}, {'id': 10752, 'name': 'War'}]\n",
            "East of Eden [{'id': 18, 'name': 'Drama'}]\n",
            "2:22 [{'id': 18, 'name': 'Drama'}, {'id': 53, 'name': 'Thriller'}]\n",
            "The Princess Diaries [{'id': 35, 'name': 'Comedy'}, {'id': 10751, 'name': 'Family'}, {'id': 10749, 'name': 'Romance'}]\n",
            "Proof [{'id': 18, 'name': 'Drama'}]\n",
            "Sweet November [{'id': 18, 'name': 'Drama'}, {'id': 10749, 'name': 'Romance'}]\n",
            "I Don't Know How She Does It [{'id': 10749, 'name': 'Romance'}, {'id': 35, 'name': 'Comedy'}]\n",
            "Clean and Sober [{'id': 18, 'name': 'Drama'}]\n",
            "Rabbit Hole [{'id': 18, 'name': 'Drama'}]\n",
            "Under Electric Clouds [{'id': 18, 'name': 'Drama'}, {'id': 878, 'name': 'Science Fiction'}]\n",
            "Rent [{'id': 18, 'name': 'Drama'}, {'id': 10749, 'name': 'Romance'}]\n",
            "The Aviator [{'id': 18, 'name': 'Drama'}]\n",
            "Little Miss Marker [{'id': 35, 'name': 'Comedy'}, {'id': 18, 'name': 'Drama'}, {'id': 10751, 'name': 'Family'}, {'id': 10749, 'name': 'Romance'}]\n",
            "Die, Mommie, Die! [{'id': 35, 'name': 'Comedy'}]\n",
            "After Earth [{'id': 878, 'name': 'Science Fiction'}, {'id': 28, 'name': 'Action'}, {'id': 12, 'name': 'Adventure'}]\n",
            "THX 1138 [{'id': 18, 'name': 'Drama'}, {'id': 9648, 'name': 'Mystery'}, {'id': 878, 'name': 'Science Fiction'}]\n",
            "Yves Saint Laurent [{'id': 18, 'name': 'Drama'}]\n",
            "Varalaru [{'id': 18, 'name': 'Drama'}]\n",
            "Bless Me, Ultima [{'id': 18, 'name': 'Drama'}, {'id': 10752, 'name': 'War'}]\n",
            "The Serpent and the Rainbow [{'id': 27, 'name': 'Horror'}, {'id': 53, 'name': 'Thriller'}]\n",
            "Ghajini [{'id': 53, 'name': 'Thriller'}, {'id': 28, 'name': 'Action'}, {'id': 18, 'name': 'Drama'}, {'id': 9648, 'name': 'Mystery'}]\n",
            "The Tulse Luper Suitcases, Part 1: The Moab Story [{'id': 10752, 'name': 'War'}, {'id': 18, 'name': 'Drama'}, {'id': 36, 'name': 'History'}, {'id': 12, 'name': 'Adventure'}, {'id': 10749, 'name': 'Romance'}, {'id': 53, 'name': 'Thriller'}]\n",
            "X-Men Origins: Wolverine [{'id': 12, 'name': 'Adventure'}, {'id': 28, 'name': 'Action'}, {'id': 53, 'name': 'Thriller'}, {'id': 878, 'name': 'Science Fiction'}]\n",
            "12 Rounds [{'id': 28, 'name': 'Action'}, {'id': 12, 'name': 'Adventure'}, {'id': 18, 'name': 'Drama'}, {'id': 53, 'name': 'Thriller'}]\n",
            "Louder Than Bombs [{'id': 18, 'name': 'Drama'}]\n",
            "Cabin in the Sky [{'id': 14, 'name': 'Fantasy'}, {'id': 10402, 'name': 'Music'}]\n",
            "Rocky II [{'id': 18, 'name': 'Drama'}]\n",
            "From Beyond [{'id': 27, 'name': 'Horror'}, {'id': 878, 'name': 'Science Fiction'}, {'id': 14, 'name': 'Fantasy'}]\n",
            "Bedazzled [{'id': 14, 'name': 'Fantasy'}, {'id': 35, 'name': 'Comedy'}, {'id': 10749, 'name': 'Romance'}]\n",
            "The Slugger's Wife [{'id': 18, 'name': 'Drama'}, {'id': 10749, 'name': 'Romance'}]\n",
            "A Gorgeous Girl Like Me [{'id': 35, 'name': 'Comedy'}, {'id': 80, 'name': 'Crime'}, {'id': 18, 'name': 'Drama'}]\n",
            "La Femme Nikita [{'id': 28, 'name': 'Action'}, {'id': 53, 'name': 'Thriller'}]\n",
            "We Bought a Zoo [{'id': 18, 'name': 'Drama'}, {'id': 35, 'name': 'Comedy'}, {'id': 10751, 'name': 'Family'}]\n",
            "The Trip to Bountiful [{'id': 18, 'name': 'Drama'}]\n",
            "A Guy Thing [{'id': 35, 'name': 'Comedy'}, {'id': 10749, 'name': 'Romance'}]\n",
            "How Do You Know [{'id': 35, 'name': 'Comedy'}, {'id': 18, 'name': 'Drama'}, {'id': 10749, 'name': 'Romance'}]\n",
            "Kicking & Screaming [{'id': 10749, 'name': 'Romance'}, {'id': 35, 'name': 'Comedy'}, {'id': 10751, 'name': 'Family'}]\n",
            "Driven [{'id': 28, 'name': 'Action'}]\n",
            "It's All Gone Pete Tong [{'id': 18, 'name': 'Drama'}, {'id': 35, 'name': 'Comedy'}, {'id': 10402, 'name': 'Music'}]\n",
            "North Dallas Forty [{'id': 35, 'name': 'Comedy'}, {'id': 18, 'name': 'Drama'}]\n",
            "Glee: The Concert Movie [{'id': 99, 'name': 'Documentary'}, {'id': 10402, 'name': 'Music'}, {'id': 10751, 'name': 'Family'}]\n",
            "Kicking and Screaming [{'id': 35, 'name': 'Comedy'}, {'id': 18, 'name': 'Drama'}, {'id': 10749, 'name': 'Romance'}]\n",
            "Personal Shopper [{'id': 18, 'name': 'Drama'}, {'id': 9648, 'name': 'Mystery'}, {'id': 53, 'name': 'Thriller'}]\n",
            "What's Eating Gilbert Grape [{'id': 10749, 'name': 'Romance'}, {'id': 18, 'name': 'Drama'}]\n",
            "Smoke [{'id': 35, 'name': 'Comedy'}, {'id': 18, 'name': 'Drama'}]\n",
            "Renoir [{'id': 18, 'name': 'Drama'}, {'id': 36, 'name': 'History'}]\n",
            "Sky. Plane. Girl. nan\n",
            "Lionheart [{'id': 28, 'name': 'Action'}, {'id': 53, 'name': 'Thriller'}]\n",
            "Suture [{'id': 18, 'name': 'Drama'}, {'id': 53, 'name': 'Thriller'}]\n",
            "Kickboxer [{'id': 28, 'name': 'Action'}, {'id': 53, 'name': 'Thriller'}]\n",
            "Katy Perry: Part of Me [{'id': 99, 'name': 'Documentary'}, {'id': 10402, 'name': 'Music'}]\n",
            "Missing [{'id': 80, 'name': 'Crime'}, {'id': 18, 'name': 'Drama'}, {'id': 53, 'name': 'Thriller'}]\n",
            "Aloft [{'id': 18, 'name': 'Drama'}]\n",
            "Gaby: A True Story [{'id': 18, 'name': 'Drama'}, {'id': 10749, 'name': 'Romance'}]\n",
            "Haiku Tunnel [{'id': 35, 'name': 'Comedy'}]\n",
            "Beyond [{'id': 18, 'name': 'Drama'}]\n",
            "Circo [{'id': 99, 'name': 'Documentary'}, {'id': 10769, 'name': 'Foreign'}]\n",
            "Gods and Generals [{'id': 18, 'name': 'Drama'}, {'id': 36, 'name': 'History'}, {'id': 10752, 'name': 'War'}]\n",
            "The Stroller Strategy [{'id': 35, 'name': 'Comedy'}]\n",
            "Final Destination 3 [{'id': 27, 'name': 'Horror'}, {'id': 9648, 'name': 'Mystery'}]\n",
            "Paris Can Wait [{'id': 18, 'name': 'Drama'}, {'id': 10749, 'name': 'Romance'}]\n",
            "Sex and Lucia [{'id': 18, 'name': 'Drama'}, {'id': 10749, 'name': 'Romance'}]\n",
            "When a Man Loves a Woman [{'id': 18, 'name': 'Drama'}, {'id': 10749, 'name': 'Romance'}]\n",
            "The Cider House Rules [{'id': 18, 'name': 'Drama'}]\n",
            "Working Girl [{'id': 35, 'name': 'Comedy'}, {'id': 18, 'name': 'Drama'}, {'id': 10749, 'name': 'Romance'}]\n",
            "Videodrome [{'id': 27, 'name': 'Horror'}, {'id': 9648, 'name': 'Mystery'}, {'id': 878, 'name': 'Science Fiction'}]\n",
            "Chapiteau-Show [{'id': 35, 'name': 'Comedy'}]\n",
            "Priest [{'id': 18, 'name': 'Drama'}, {'id': 10749, 'name': 'Romance'}]\n",
            "Yes Man [{'id': 35, 'name': 'Comedy'}]\n",
            "Kal Ho Naa Ho [{'id': 35, 'name': 'Comedy'}, {'id': 18, 'name': 'Drama'}]\n",
            "Halloween 4: The Return of Michael Myers [{'id': 27, 'name': 'Horror'}, {'id': 53, 'name': 'Thriller'}]\n",
            "The One and Only [{'id': 35, 'name': 'Comedy'}, {'id': 10749, 'name': 'Romance'}]\n",
            "Balto [{'id': 10751, 'name': 'Family'}, {'id': 16, 'name': 'Animation'}, {'id': 12, 'name': 'Adventure'}]\n",
            "The Shawshank Redemption [{'id': 18, 'name': 'Drama'}, {'id': 80, 'name': 'Crime'}]\n",
            "License to Wed [{'id': 35, 'name': 'Comedy'}]\n",
            "Happy Days [{'id': 18, 'name': 'Drama'}]\n",
            "Raging Bull [{'id': 18, 'name': 'Drama'}]\n",
            "Possession [{'id': 18, 'name': 'Drama'}, {'id': 9648, 'name': 'Mystery'}, {'id': 10749, 'name': 'Romance'}]\n",
            "The Last Unicorn [{'id': 14, 'name': 'Fantasy'}, {'id': 16, 'name': 'Animation'}, {'id': 10751, 'name': 'Family'}]\n",
            "The Bourne Supremacy [{'id': 28, 'name': 'Action'}, {'id': 18, 'name': 'Drama'}, {'id': 53, 'name': 'Thriller'}]\n",
            "Fantastic Mr. Fox [{'id': 12, 'name': 'Adventure'}, {'id': 16, 'name': 'Animation'}, {'id': 35, 'name': 'Comedy'}, {'id': 10751, 'name': 'Family'}]\n",
            "Man-Thing [{'id': 28, 'name': 'Action'}, {'id': 27, 'name': 'Horror'}, {'id': 878, 'name': 'Science Fiction'}]\n",
            "I'm Staying [{'id': 35, 'name': 'Comedy'}, {'id': 18, 'name': 'Drama'}, {'id': 14, 'name': 'Fantasy'}]\n",
            "Full Frontal [{'id': 35, 'name': 'Comedy'}, {'id': 18, 'name': 'Drama'}, {'id': 10749, 'name': 'Romance'}]\n",
            "A Thousand Words [{'id': 18, 'name': 'Drama'}, {'id': 35, 'name': 'Comedy'}]\n",
            "The Best Offer [{'id': 18, 'name': 'Drama'}, {'id': 10749, 'name': 'Romance'}, {'id': 80, 'name': 'Crime'}, {'id': 9648, 'name': 'Mystery'}]\n",
            "Mishima: A Life in Four Chapters [{'id': 18, 'name': 'Drama'}]\n",
            "Eraser [{'id': 28, 'name': 'Action'}, {'id': 18, 'name': 'Drama'}, {'id': 9648, 'name': 'Mystery'}, {'id': 53, 'name': 'Thriller'}]\n",
            "Spartacus [{'id': 28, 'name': 'Action'}, {'id': 18, 'name': 'Drama'}, {'id': 36, 'name': 'History'}]\n",
            "The Last Temptation of Christ [{'id': 18, 'name': 'Drama'}]\n",
            "About a Boy [{'id': 18, 'name': 'Drama'}, {'id': 35, 'name': 'Comedy'}, {'id': 10749, 'name': 'Romance'}]\n",
            "Hitman [{'id': 28, 'name': 'Action'}, {'id': 80, 'name': 'Crime'}, {'id': 18, 'name': 'Drama'}, {'id': 53, 'name': 'Thriller'}]\n",
            "Crossing Over [{'id': 80, 'name': 'Crime'}, {'id': 18, 'name': 'Drama'}]\n",
            "The Last Exorcism Part II [{'id': 27, 'name': 'Horror'}, {'id': 53, 'name': 'Thriller'}]\n",
            "Ai Weiwei: Never Sorry [{'id': 99, 'name': 'Documentary'}]\n",
            "The Accidental Husband [{'id': 35, 'name': 'Comedy'}, {'id': 10749, 'name': 'Romance'}]\n",
            "The Life Aquatic with Steve Zissou [{'id': 12, 'name': 'Adventure'}, {'id': 35, 'name': 'Comedy'}, {'id': 18, 'name': 'Drama'}]\n",
            "Hart's War [{'id': 18, 'name': 'Drama'}, {'id': 10752, 'name': 'War'}]\n",
            "Admission [{'id': 35, 'name': 'Comedy'}, {'id': 18, 'name': 'Drama'}, {'id': 10749, 'name': 'Romance'}]\n",
            "Pirates of the Caribbean: At World's End [{'id': 12, 'name': 'Adventure'}, {'id': 14, 'name': 'Fantasy'}, {'id': 28, 'name': 'Action'}]\n",
            "Pather Panchali [{'id': 18, 'name': 'Drama'}]\n",
            "Frida [{'id': 18, 'name': 'Drama'}, {'id': 10749, 'name': 'Romance'}]\n",
            "Out of Bounds [{'id': 18, 'name': 'Drama'}, {'id': 28, 'name': 'Action'}, {'id': 80, 'name': 'Crime'}, {'id': 53, 'name': 'Thriller'}]\n",
            "Welcome to the Sticks [{'id': 35, 'name': 'Comedy'}]\n",
            "Henry Poole Is Here [{'id': 35, 'name': 'Comedy'}, {'id': 18, 'name': 'Drama'}]\n",
            "Twins [{'id': 35, 'name': 'Comedy'}]\n",
            "A Troll in Central Park [{'id': 14, 'name': 'Fantasy'}, {'id': 16, 'name': 'Animation'}, {'id': 878, 'name': 'Science Fiction'}, {'id': 10751, 'name': 'Family'}]\n",
            "The Amazing Truth About Queen Raquela [{'id': 99, 'name': 'Documentary'}, {'id': 18, 'name': 'Drama'}]\n",
            "The Secret Life of Walter Mitty [{'id': 12, 'name': 'Adventure'}, {'id': 35, 'name': 'Comedy'}, {'id': 18, 'name': 'Drama'}, {'id': 14, 'name': 'Fantasy'}]\n",
            "The Truman Show [{'id': 35, 'name': 'Comedy'}, {'id': 18, 'name': 'Drama'}]\n",
            "It Doesn't Hurt Me [{'id': 18, 'name': 'Drama'}, {'id': 10749, 'name': 'Romance'}]\n",
            "The Rapture [{'id': 9648, 'name': 'Mystery'}, {'id': 18, 'name': 'Drama'}]\n",
            "The Iron Lady [{'id': 36, 'name': 'History'}, {'id': 18, 'name': 'Drama'}]\n",
            "Wish I Was Here [{'id': 18, 'name': 'Drama'}, {'id': 35, 'name': 'Comedy'}]\n",
            "Earthquake [{'id': 28, 'name': 'Action'}, {'id': 18, 'name': 'Drama'}, {'id': 53, 'name': 'Thriller'}]\n",
            "Hudson Hawk [{'id': 28, 'name': 'Action'}, {'id': 12, 'name': 'Adventure'}, {'id': 35, 'name': 'Comedy'}]\n",
            "Touchy Feely [{'id': 18, 'name': 'Drama'}]\n",
            "Wrath of the Titans [{'id': 12, 'name': 'Adventure'}]\n",
            "About Time [{'id': 35, 'name': 'Comedy'}, {'id': 18, 'name': 'Drama'}, {'id': 878, 'name': 'Science Fiction'}]\n",
            "Ice Age: Dawn of the Dinosaurs [{'id': 16, 'name': 'Animation'}, {'id': 35, 'name': 'Comedy'}, {'id': 10751, 'name': 'Family'}, {'id': 12, 'name': 'Adventure'}]\n",
            "My Sister's Keeper [{'id': 18, 'name': 'Drama'}]\n",
            "The Twilight Samurai [{'id': 28, 'name': 'Action'}, {'id': 18, 'name': 'Drama'}, {'id': 10749, 'name': 'Romance'}]\n",
            "Spy Kids [{'id': 28, 'name': 'Action'}, {'id': 35, 'name': 'Comedy'}, {'id': 10751, 'name': 'Family'}, {'id': 12, 'name': 'Adventure'}]\n",
            "Eat Pray Love [{'id': 18, 'name': 'Drama'}]\n",
            "The Bonfire of the Vanities [{'id': 35, 'name': 'Comedy'}, {'id': 18, 'name': 'Drama'}]\n",
            "Evita [{'id': 36, 'name': 'History'}, {'id': 18, 'name': 'Drama'}, {'id': 10402, 'name': 'Music'}]\n",
            "Overdose [{'id': 18, 'name': 'Drama'}]\n",
            "Tuck Everlasting [{'id': 18, 'name': 'Drama'}, {'id': 10751, 'name': 'Family'}, {'id': 14, 'name': 'Fantasy'}, {'id': 10749, 'name': 'Romance'}, {'id': 878, 'name': 'Science Fiction'}]\n",
            "10 Items or Less [{'id': 35, 'name': 'Comedy'}, {'id': 18, 'name': 'Drama'}]\n",
            "Dear Zindagi [{'id': 18, 'name': 'Drama'}, {'id': 10749, 'name': 'Romance'}]\n",
            "The Twilight Saga: Eclipse [{'id': 12, 'name': 'Adventure'}, {'id': 14, 'name': 'Fantasy'}, {'id': 18, 'name': 'Drama'}, {'id': 10749, 'name': 'Romance'}]\n",
            "The Pirates of Penzance [{'id': 35, 'name': 'Comedy'}, {'id': 10402, 'name': 'Music'}, {'id': 10749, 'name': 'Romance'}]\n",
            "Take Me Home Tonight [{'id': 35, 'name': 'Comedy'}, {'id': 18, 'name': 'Drama'}, {'id': 10749, 'name': 'Romance'}]\n",
            "Tiny Times [{'id': 18, 'name': 'Drama'}, {'id': 10749, 'name': 'Romance'}, {'id': 35, 'name': 'Comedy'}]\n",
            "The Internet's Own Boy: The Story of Aaron Swartz [{'id': 80, 'name': 'Crime'}, {'id': 99, 'name': 'Documentary'}]\n",
            "Speed Racer [{'id': 28, 'name': 'Action'}, {'id': 10751, 'name': 'Family'}, {'id': 878, 'name': 'Science Fiction'}]\n",
            "Wings of Desire [{'id': 18, 'name': 'Drama'}, {'id': 14, 'name': 'Fantasy'}, {'id': 10749, 'name': 'Romance'}]\n",
            "Donnie Brasco [{'id': 80, 'name': 'Crime'}, {'id': 18, 'name': 'Drama'}, {'id': 53, 'name': 'Thriller'}]\n",
            "Wild Target [{'id': 28, 'name': 'Action'}, {'id': 35, 'name': 'Comedy'}]\n",
            "Heavy Traffic [{'id': 16, 'name': 'Animation'}, {'id': 35, 'name': 'Comedy'}, {'id': 18, 'name': 'Drama'}]\n",
            "The Hobbit: An Unexpected Journey [{'id': 12, 'name': 'Adventure'}, {'id': 14, 'name': 'Fantasy'}, {'id': 28, 'name': 'Action'}]\n",
            "The Kids Are All Right [{'id': 35, 'name': 'Comedy'}, {'id': 18, 'name': 'Drama'}]\n",
            "9 [{'id': 28, 'name': 'Action'}, {'id': 12, 'name': 'Adventure'}, {'id': 16, 'name': 'Animation'}, {'id': 878, 'name': 'Science Fiction'}, {'id': 53, 'name': 'Thriller'}]\n",
            "Kabhi Alvida Naa Kehna [{'id': 18, 'name': 'Drama'}, {'id': 10749, 'name': 'Romance'}]\n",
            "The Polar Express [{'id': 12, 'name': 'Adventure'}, {'id': 16, 'name': 'Animation'}, {'id': 10751, 'name': 'Family'}, {'id': 14, 'name': 'Fantasy'}]\n",
            "Ringu [{'id': 27, 'name': 'Horror'}, {'id': 53, 'name': 'Thriller'}]\n",
            "A Shot in the Dark [{'id': 35, 'name': 'Comedy'}, {'id': 80, 'name': 'Crime'}]\n",
            "Barbershop [{'id': 35, 'name': 'Comedy'}, {'id': 18, 'name': 'Drama'}]\n",
            "Judy Moody and the Not Bummer Summer [{'id': 35, 'name': 'Comedy'}, {'id': 10751, 'name': 'Family'}]\n",
            "Throw Momma from the Train [{'id': 80, 'name': 'Crime'}, {'id': 35, 'name': 'Comedy'}]\n",
            "The Passion of the Christ [{'id': 18, 'name': 'Drama'}]\n",
            "Spice World [{'id': 12, 'name': 'Adventure'}, {'id': 14, 'name': 'Fantasy'}, {'id': 18, 'name': 'Drama'}, {'id': 35, 'name': 'Comedy'}, {'id': 10402, 'name': 'Music'}]\n",
            "Dope [{'id': 80, 'name': 'Crime'}, {'id': 18, 'name': 'Drama'}, {'id': 35, 'name': 'Comedy'}]\n",
            "Killers [{'id': 28, 'name': 'Action'}, {'id': 35, 'name': 'Comedy'}, {'id': 53, 'name': 'Thriller'}, {'id': 10749, 'name': 'Romance'}]\n",
            "The Tree of Life [{'id': 18, 'name': 'Drama'}, {'id': 14, 'name': 'Fantasy'}]\n",
            "The Whole Nine Yards [{'id': 35, 'name': 'Comedy'}, {'id': 80, 'name': 'Crime'}]\n",
            "Pocahontas [{'id': 12, 'name': 'Adventure'}, {'id': 16, 'name': 'Animation'}, {'id': 18, 'name': 'Drama'}, {'id': 10751, 'name': 'Family'}]\n",
            "The Rover [{'id': 80, 'name': 'Crime'}, {'id': 18, 'name': 'Drama'}]\n",
            "A Price Above Rubies [{'id': 18, 'name': 'Drama'}, {'id': 10749, 'name': 'Romance'}]\n",
            "Pet Sematary [{'id': 18, 'name': 'Drama'}, {'id': 27, 'name': 'Horror'}]\n",
            "Thief [{'id': 28, 'name': 'Action'}, {'id': 80, 'name': 'Crime'}, {'id': 18, 'name': 'Drama'}, {'id': 53, 'name': 'Thriller'}]\n",
            "The Raid 2 [{'id': 28, 'name': 'Action'}, {'id': 80, 'name': 'Crime'}, {'id': 53, 'name': 'Thriller'}]\n",
            "Takers [{'id': 28, 'name': 'Action'}, {'id': 80, 'name': 'Crime'}, {'id': 18, 'name': 'Drama'}, {'id': 53, 'name': 'Thriller'}]\n",
            "Nurse 3-D [{'id': 27, 'name': 'Horror'}, {'id': 53, 'name': 'Thriller'}]\n",
            "Desperately Seeking Susan [{'id': 35, 'name': 'Comedy'}]\n",
            "Dead & Buried [{'id': 27, 'name': 'Horror'}, {'id': 9648, 'name': 'Mystery'}]\n",
            "The Sweetest Thing [{'id': 10749, 'name': 'Romance'}, {'id': 35, 'name': 'Comedy'}]\n",
            "Barfly [{'id': 35, 'name': 'Comedy'}, {'id': 18, 'name': 'Drama'}, {'id': 10749, 'name': 'Romance'}]\n",
            "Music and Lyrics [{'id': 35, 'name': 'Comedy'}, {'id': 10402, 'name': 'Music'}, {'id': 10749, 'name': 'Romance'}]\n",
            "The Visual Bible: The Gospel of John [{'id': 18, 'name': 'Drama'}, {'id': 36, 'name': 'History'}]\n",
            "Harry Potter and the Chamber of Secrets [{'id': 12, 'name': 'Adventure'}, {'id': 14, 'name': 'Fantasy'}, {'id': 10751, 'name': 'Family'}]\n",
            "Tadpole [{'id': 35, 'name': 'Comedy'}, {'id': 18, 'name': 'Drama'}, {'id': 10749, 'name': 'Romance'}]\n",
            "Villan [{'id': 28, 'name': 'Action'}, {'id': 80, 'name': 'Crime'}]\n",
            "Best Defense [{'id': 28, 'name': 'Action'}, {'id': 35, 'name': 'Comedy'}]\n",
            "Scrooged [{'id': 14, 'name': 'Fantasy'}, {'id': 35, 'name': 'Comedy'}, {'id': 18, 'name': 'Drama'}]\n",
            "Hector and the Search for Happiness [{'id': 12, 'name': 'Adventure'}, {'id': 18, 'name': 'Drama'}, {'id': 35, 'name': 'Comedy'}]\n",
            "Who Is Harry Nilsson (And Why Is Everybody Talkin' About Him?) [{'id': 99, 'name': 'Documentary'}, {'id': 10402, 'name': 'Music'}]\n",
            "Bad Boys [{'id': 80, 'name': 'Crime'}, {'id': 18, 'name': 'Drama'}, {'id': 53, 'name': 'Thriller'}]\n",
            "Cars [{'id': 16, 'name': 'Animation'}, {'id': 12, 'name': 'Adventure'}, {'id': 35, 'name': 'Comedy'}, {'id': 10751, 'name': 'Family'}]\n",
            "Camille Claudel 1915 [{'id': 18, 'name': 'Drama'}]\n",
            "Nice Guy Johnny [{'id': 35, 'name': 'Comedy'}, {'id': 10749, 'name': 'Romance'}]\n",
            "Manhattan [{'id': 35, 'name': 'Comedy'}, {'id': 18, 'name': 'Drama'}, {'id': 10749, 'name': 'Romance'}]\n",
            "Backdraft [{'id': 28, 'name': 'Action'}, {'id': 80, 'name': 'Crime'}, {'id': 18, 'name': 'Drama'}, {'id': 9648, 'name': 'Mystery'}, {'id': 53, 'name': 'Thriller'}]\n",
            "Secret Society [{'id': 28, 'name': 'Action'}, {'id': 35, 'name': 'Comedy'}, {'id': 18, 'name': 'Drama'}]\n",
            "The Salesman [{'id': 18, 'name': 'Drama'}, {'id': 53, 'name': 'Thriller'}]\n",
            "Trust [{'id': 80, 'name': 'Crime'}, {'id': 18, 'name': 'Drama'}, {'id': 53, 'name': 'Thriller'}]\n",
            "The Shack [{'id': 18, 'name': 'Drama'}, {'id': 14, 'name': 'Fantasy'}]\n",
            "Mr. Destiny [{'id': 14, 'name': 'Fantasy'}, {'id': 35, 'name': 'Comedy'}, {'id': 878, 'name': 'Science Fiction'}, {'id': 10749, 'name': 'Romance'}]\n",
            "The Back-Up Plan [{'id': 35, 'name': 'Comedy'}, {'id': 10749, 'name': 'Romance'}]\n",
            "B.A.P.S. [{'id': 28, 'name': 'Action'}, {'id': 35, 'name': 'Comedy'}]\n",
            "The Long Kiss Goodnight [{'id': 80, 'name': 'Crime'}, {'id': 28, 'name': 'Action'}, {'id': 9648, 'name': 'Mystery'}, {'id': 53, 'name': 'Thriller'}]\n",
            "Along Came Polly [{'id': 35, 'name': 'Comedy'}, {'id': 10749, 'name': 'Romance'}]\n"
          ],
          "name": "stdout"
        }
      ]
    },
    {
      "cell_type": "markdown",
      "metadata": {
        "id": "K7B8kEvNLxho",
        "colab_type": "text"
      },
      "source": [
        "### Finding the optimal number of clusters using elbow curve method."
      ]
    },
    {
      "cell_type": "code",
      "metadata": {
        "id": "apFS7ghuFJiV",
        "colab_type": "code",
        "colab": {
          "base_uri": "https://localhost:8080/",
          "height": 314
        },
        "outputId": "54eced0a-d209-419a-b578-a7cd20322f8e"
      },
      "source": [
        "from tqdm import tqdm\n",
        "distortions = []\n",
        "for i in tqdm(range(1, 11)):\n",
        "  km_ = KMeans(n_clusters= i, max_iter = 400, n_init = 50)\n",
        "  km_.fit(cv_matrix)\n",
        "  distortions.append(km_.inertia_)\n"
      ],
      "execution_count": null,
      "outputs": [
        {
          "output_type": "stream",
          "text": [
            "100%|██████████| 10/10 [09:04<00:00, 54.43s/it]\n"
          ],
          "name": "stderr"
        },
        {
          "output_type": "display_data",
          "data": {
            "image/png": "[encoded data removed]",
            "text/plain": [
              "<Figure size 432x288 with 1 Axes>"
            ]
          },
          "metadata": {
            "tags": [],
            "needs_background": "light"
          }
        }
      ]
    },
    {
      "cell_type": "code",
      "metadata": {
        "id": "7ZxDCuJ3L4YS",
        "colab_type": "code",
        "colab": {
          "base_uri": "https://localhost:8080/",
          "height": 297
        },
        "outputId": "250bf001-65d0-479f-891f-57392bd652fe"
      },
      "source": [
        "plt.plot(range(1,11), distortions, marker = 'o')\n",
        "plt.xlabel('No. of clusters')\n",
        "plt.ylabel('Distortion')\n",
        "plt.title('The Elbow Curve')\n",
        "plt.tight_layout()\n",
        "plt.show()"
      ],
      "execution_count": null,
      "outputs": [
        {
          "output_type": "display_data",
          "data": {
            "image/png": "[encoded data removed]",
            "text/plain": [
              "<Figure size 432x288 with 1 Axes>"
            ]
          },
          "metadata": {
            "tags": [],
            "needs_background": "light"
          }
        }
      ]
    }
  ]
}